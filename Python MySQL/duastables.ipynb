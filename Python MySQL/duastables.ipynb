{
 "cells": [
  {
   "cell_type": "code",
   "execution_count": 13,
   "metadata": {},
   "outputs": [
    {
     "name": "stdout",
     "output_type": "stream",
     "text": [
      "Conectado ao banco de dados:  ('teste',)\n",
      "Criando database...\n",
      "(1, 'Bruno', 23, 'assassins', 'forest gump')\n",
      "(2, 'João', 24, 'pokemon', 'a procura da felicidade')\n",
      "(3, 'Mônica', 35, 'mario', 'se eu fosse você')\n",
      "(4, 'Camila', 30, 'sonic', 'batman')\n"
     ]
    }
   ],
   "source": [
    "import pandas as pd\n",
    "from sqlite3 import Cursor as executor #variavel para executar os comando mysql\n",
    "import pymysql\n",
    "planilha = pd.read_csv('contas - Página1.csv',delimiter = ',')\n",
    "planilha2 = pd.read_csv('contas - Página2.csv',delimiter = ',')\n",
    "#planilha.head()\n",
    "#planilha.describe()\n",
    "#planilha.shape\n",
    "\n",
    "\n",
    "conexao = pymysql.connect(host=\"localhost\", port=3306, database=\"teste\",user=\"root\",password=\"root\",autocommit=True)\n",
    "executor = conexao.cursor()\n",
    "executor.execute(\"select database();\")\n",
    "record = executor.fetchone()\n",
    "print(\"Conectado ao banco de dados: \", record)\n",
    "executor.execute('DROP TABLE IF EXISTS contaspython;')\n",
    "executor.execute('DROP TABLE IF EXISTS contaspython2;')\n",
    "print('Criando database...')\n",
    "\n",
    "executor.execute(\"CREATE TABLE contaspython(id INT NOT NULL,nome varchar(255),idade INT, PRIMARY KEY(id))\")\n",
    "\n",
    "executor.execute(\"CREATE TABLE contaspython2(id INT NOT NULL,jogo varchar(255),filme varchar(255), PRIMARY KEY(id))\")\n",
    "\n",
    "\n",
    "for i,row in planilha.iterrows():\n",
    "\n",
    "    sql = \"INSERT INTO teste.contaspython VALUES (%s,%s,%s)\"\n",
    "    executor.execute(sql, tuple(row))\n",
    "           \n",
    "    conexao.commit()\n",
    "\n",
    "for i,row in planilha2.iterrows():\n",
    "\n",
    "    sql = \"INSERT INTO teste.contaspython2 VALUES (%s,%s,%s)\"\n",
    "    executor.execute(sql, tuple(row))\n",
    "             \n",
    "    conexao.commit()\n",
    "\n",
    "executor.execute(\"select contaspython.id, contaspython.nome, contaspython.idade, contaspython2.jogo, contaspython2.filme from contaspython inner join contaspython2 on contaspython.id = contaspython2.id;\")\n",
    "for row in executor.fetchall():\n",
    "    print(row)"
   ]
  }
 ],
 "metadata": {
  "interpreter": {
   "hash": "dc2ac7d52582c79776be5c12fc90ce5c63bc4269668f5509517fef12082c7018"
  },
  "kernelspec": {
   "display_name": "Python 3.10.2 64-bit",
   "language": "python",
   "name": "python3"
  },
  "language_info": {
   "codemirror_mode": {
    "name": "ipython",
    "version": 3
   },
   "file_extension": ".py",
   "mimetype": "text/x-python",
   "name": "python",
   "nbconvert_exporter": "python",
   "pygments_lexer": "ipython3",
   "version": "3.10.2"
  },
  "orig_nbformat": 4
 },
 "nbformat": 4,
 "nbformat_minor": 2
}
