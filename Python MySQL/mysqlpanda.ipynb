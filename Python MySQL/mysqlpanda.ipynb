{
 "cells": [
  {
   "cell_type": "code",
   "execution_count": 16,
   "metadata": {},
   "outputs": [
    {
     "name": "stdout",
     "output_type": "stream",
     "text": [
      "You're connected to database:  ('teste',)\n",
      "Creating table....\n",
      "Table is created....\n",
      "Record inserted\n",
      "Record inserted\n",
      "Record inserted\n",
      "Record inserted\n"
     ]
    }
   ],
   "source": [
    "import pandas as pd\n",
    "from sqlite3 import Cursor\n",
    "import pymysql\n",
    "planilha = pd.read_csv('contas - Página1.csv',delimiter = ',')\n",
    "#planilha.head()\n",
    "#planilha.describe()\n",
    "#planilha.shape\n",
    "\n",
    "\n",
    "conexao = pymysql.connect(host=\"localhost\", port=3306, database=\"teste\",user=\"root\",password=\"root\",autocommit=True)\n",
    "cursor = conexao.cursor()\n",
    "cursor.execute(\"select database();\")\n",
    "record = cursor.fetchone()\n",
    "print(\"Conectado ao banco de dados: \", record)\n",
    "cursor.execute('DROP TABLE IF EXISTS contaspython;')\n",
    "print('Criando database...')\n",
    "\n",
    "cursor.execute(\"CREATE TABLE contaspython(id INT NOT NULL,nome varchar(255),idade INT, PRIMARY KEY(id))\")\n",
    "print(\"Table foi crado....\")\n",
    "for i,row in planilha.iterrows():\n",
    "\n",
    "    sql = \"INSERT INTO teste.contaspython VALUES (%s,%s,%s)\"\n",
    "    cursor.execute(sql, tuple(row))\n",
    "    print(\"Valores inseridos\")\n",
    "           \n",
    "    conexao.commit()"
   ]
  }
 ],
 "metadata": {
  "interpreter": {
   "hash": "dc2ac7d52582c79776be5c12fc90ce5c63bc4269668f5509517fef12082c7018"
  },
  "kernelspec": {
   "display_name": "Python 3.10.2 64-bit",
   "language": "python",
   "name": "python3"
  },
  "language_info": {
   "codemirror_mode": {
    "name": "ipython",
    "version": 3
   },
   "file_extension": ".py",
   "mimetype": "text/x-python",
   "name": "python",
   "nbconvert_exporter": "python",
   "pygments_lexer": "ipython3",
   "version": "3.10.2"
  },
  "orig_nbformat": 4
 },
 "nbformat": 4,
 "nbformat_minor": 2
}
